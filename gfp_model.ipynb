{
  "nbformat": 4,
  "nbformat_minor": 0,
  "metadata": {
    "colab": {
      "provenance": [],
      "collapsed_sections": [
        "8xHQ_k34CceA",
        "PUak1-PcCrCW",
        "1zhZqbZZC47X",
        "-8nWxd4hf43S",
        "U5RMFK_j6LOD",
        "mt9ezjyu6rze"
      ]
    },
    "language_info": {
      "codemirror_mode": {
        "name": "ipython",
        "version": 3
      },
      "file_extension": ".py",
      "mimetype": "text/x-python",
      "name": "python",
      "nbconvert_exporter": "python",
      "pygments_lexer": "ipython3",
      "version": "3.6.3"
    },
    "kernelspec": {
      "display_name": "Python 3",
      "language": "python",
      "name": "python3"
    }
  },
  "cells": [
    {
      "cell_type": "markdown",
      "source": [
        "# **<center>POST-Natural Prototypes<center>**\n",
        "\n",
        "---\n"
      ],
      "metadata": {
        "id": "A7Hu0KQHF-e9"
      }
    },
    {
      "cell_type": "markdown",
      "source": [
        "\n",
        "\n",
        "> **Aim** - In this project we intend to establish meaningful dialogue between plant and human beings, that is contextualized to how plants and humans will have to adapt to in order to survive. The central objective is to study plant images, and based on its results produce meaningful response that helps plant to grow. The response involves changes in the environmental stresses that includes temperature,sound, light, parasites, and so on. In the initial phase, we will be concentrating on Sound parameter.  \n",
        "\n",
        "> Our dataset includes 3 types of images – Bioluminescence, fluorescence, and Thermal.\n",
        "\n",
        "> In this notebook, we will examine Green fluorescent protein(GFP) which is one of the Fluorescence plants (glows in dark).  \n",
        "\n",
        "\n",
        "\n"
      ],
      "metadata": {
        "id": "zTfrhUGCGccg"
      }
    },
    {
      "cell_type": "markdown",
      "source": [
        "## Import libraries"
      ],
      "metadata": {
        "id": "8xHQ_k34CceA"
      }
    },
    {
      "cell_type": "code",
      "source": [
        "!pip uninstall tensorflow\n",
        "!pip install tensorflow==2.9.2"
      ],
      "metadata": {
        "id": "ZCNt7MwDuUsU"
      },
      "execution_count": null,
      "outputs": []
    },
    {
      "metadata": {
        "id": "U3AxWwW8BLgs"
      },
      "cell_type": "code",
      "source": [
        "import argparse\n",
        "import csv\n",
        "import os\n",
        "import sys\n",
        "import matplotlib\n",
        "import matplotlib.pyplot as plt\n",
        "import functools\n",
        "import tensorflow as tf\n",
        "from tensorflow.keras.applications.resnet50 import ResNet50\n",
        "from keras import applications\n",
        "from tensorflow.keras.applications.resnet50 import preprocess_input\n",
        "from tensorflow.keras.preprocessing import image\n",
        "from sklearn import preprocessing\n",
        "import numpy as np\n",
        "import pandas\n",
        "from sklearn import (\n",
        "    decomposition,\n",
        "    manifold,\n",
        "    pipeline,\n",
        ")\n",
        "\n",
        "plt.style.use('ggplot')\n",
        "import seaborn as sns\n",
        "import warnings\n",
        "warnings.filterwarnings(\"ignore\")"
      ],
      "execution_count": 2,
      "outputs": []
    },
    {
      "cell_type": "markdown",
      "source": [
        "## Connecting to google drive and extracting GFP data folder"
      ],
      "metadata": {
        "id": "PUak1-PcCrCW"
      }
    },
    {
      "cell_type": "code",
      "source": [
        "import zipfile\n",
        "from google.colab import drive\n",
        "\n",
        "drive.mount('/content/drive/')\n",
        "\n",
        "zip_ref = zipfile.ZipFile(\"/content/drive/MyDrive/gfp.zip\", 'r')\n",
        "zip_ref.extractall(\"/content\")\n",
        "zip_ref.close()"
      ],
      "metadata": {
        "colab": {
          "base_uri": "https://localhost:8080/"
        },
        "id": "Sc0f7wSVxE5n",
        "outputId": "505b8935-85f6-4a29-b460-94593c363f52"
      },
      "execution_count": 3,
      "outputs": [
        {
          "output_type": "stream",
          "name": "stdout",
          "text": [
            "Mounted at /content/drive/\n"
          ]
        }
      ]
    },
    {
      "cell_type": "markdown",
      "source": [
        "## Data exploration "
      ],
      "metadata": {
        "id": "1zhZqbZZC47X"
      }
    },
    {
      "cell_type": "markdown",
      "source": [
        "Read a csv file, which is the list of all gfp images names present in the trainset. It consist of 2 columns named as 'id' and 'gfp'. The column 'id' is the serial number and the column 'gfp' is the image file name.  "
      ],
      "metadata": {
        "id": "9xSbnySIFBBd"
      }
    },
    {
      "cell_type": "code",
      "source": [
        "data = pandas.read_csv(\"data.csv\")"
      ],
      "metadata": {
        "id": "bHkXdwnBCMaZ"
      },
      "execution_count": 4,
      "outputs": []
    },
    {
      "cell_type": "code",
      "source": [
        "print(\"Total images in trainset -\",len(data))\n",
        "\n",
        "print(\"columns in data.csv file -\",data.columns)"
      ],
      "metadata": {
        "id": "1BYy02q3CMgO",
        "colab": {
          "base_uri": "https://localhost:8080/"
        },
        "outputId": "c3a92edc-91d7-478c-8510-1e9f08783853"
      },
      "execution_count": 5,
      "outputs": [
        {
          "output_type": "stream",
          "name": "stdout",
          "text": [
            "Total images in trainset - 186\n",
            "columns in data.csv file - Index(['id', 'gfp'], dtype='object')\n"
          ]
        }
      ]
    },
    {
      "metadata": {
        "id": "M0-TqVCmKANO"
      },
      "cell_type": "markdown",
      "source": [
        "FEATURE EXTRACTION "
      ]
    },
    {
      "cell_type": "markdown",
      "source": [
        "**get_feature()** -  This functin is reponsible for loading an image and resizing it to 224 x 224 dimension. Hence this will result in 50176 features."
      ],
      "metadata": {
        "id": "TvdBMxB2gsZ3"
      }
    },
    {
      "metadata": {
        "id": "0zW8vRQ_BLhB"
      },
      "cell_type": "code",
      "source": [
        "def get_feature(model, metadata):\n",
        "    print('{}'.format(metadata['id']))\n",
        "    try:\n",
        "        img_path = os.path.join('gfp', metadata['gfp'])\n",
        "        print(img_path)\n",
        "        if os.path.isfile(img_path):\n",
        "            #print('is file: {}'.format(img_path))\n",
        "            try:\n",
        "                # load image setting the image size to 224 x 224\n",
        "                img = image.load_img(img_path, target_size=(224, 224))\n",
        "                # convert image to numpy array\n",
        "                x = image.img_to_array(img)\n",
        "\n",
        "                # the image is now in an array of shape (3, 224, 224)\n",
        "                # but we need to expand it to (1, 2, 224, 224) as Keras is expecting a list of images\n",
        "                x = np.expand_dims(x, axis=0)\n",
        "                x = preprocess_input(x)\n",
        "                \n",
        "                # extract the features\n",
        "                features = model.predict(x)[0]\n",
        "                # convert from Numpy to a list of values\n",
        "                features_arr = np.char.mod('%f', features)\n",
        "\n",
        "                return {\"id\": metadata['id'], \"features\": ','.join(features_arr)}\n",
        "            except Exception as ex:\n",
        "                # skip all exceptions for now\n",
        "                print(ex)\n",
        "                pass\n",
        "    except Exception as ex:\n",
        "        # skip all exceptions for now\n",
        "        print(ex)\n",
        "        pass\n",
        "    return None\n"
      ],
      "execution_count": 6,
      "outputs": []
    },
    {
      "cell_type": "markdown",
      "source": [
        "create_features() - This method will create a tsv file that consist of features mapped with each images"
      ],
      "metadata": {
        "id": "KYymvxYbQjno"
      }
    },
    {
      "metadata": {
        "id": "UA2hRS0uGTae"
      },
      "cell_type": "code",
      "source": [
        "def create_features(filename,features):\n",
        "  with open(filename, 'w') as output:\n",
        "    w = csv.DictWriter(output, fieldnames=['id', 'features'], delimiter='\\t', lineterminator='\\n')\n",
        "    w.writeheader()\n",
        "    w.writerows(features)\n"
      ],
      "execution_count": 7,
      "outputs": []
    },
    {
      "cell_type": "markdown",
      "source": [
        "Using VGG 16 model for extracting features of an image. "
      ],
      "metadata": {
        "id": "bcEB4r-LVNpV"
      }
    },
    {
      "metadata": {
        "id": "-ExvV56QBLhK",
        "colab": {
          "base_uri": "https://localhost:8080/"
        },
        "outputId": "79456ef2-82c9-458a-da7a-4bd76edb5260"
      },
      "cell_type": "code",
      "source": [
        "data = pandas.read_csv(\"data.csv\")\n",
        "file = \"features_\"\n",
        "\n",
        "# VGG-16\n",
        "model_vgg16 = applications.vgg16.VGG16(weights='imagenet', include_top=False, pooling='avg')\n",
        "features_vgg16 = map(functools.partial(get_feature,model_vgg16), data.T.to_dict().values())\n",
        "# remove empty entries\n",
        "features_vgg16 = filter(None, features_vgg16)\n",
        "create_features(file+\"vgg16.tsv\",features_vgg16)\n",
        "\n",
        "\n",
        "\n"
      ],
      "execution_count": 8,
      "outputs": [
        {
          "output_type": "stream",
          "name": "stdout",
          "text": [
            "Downloading data from https://storage.googleapis.com/tensorflow/keras-applications/vgg16/vgg16_weights_tf_dim_ordering_tf_kernels_notop.h5\n",
            "58889256/58889256 [==============================] - 0s 0us/step\n",
            "1\n",
            "gfp/37+55 cc24.png\n",
            "1/1 [==============================] - 1s 1s/step\n",
            "2\n",
            "gfp/37+55 cc25.png\n",
            "1/1 [==============================] - 1s 646ms/step\n",
            "3\n",
            "gfp/37+55 cc26.png\n",
            "1/1 [==============================] - 1s 676ms/step\n",
            "4\n",
            "gfp/37+55 cc27.png\n",
            "1/1 [==============================] - 1s 640ms/step\n",
            "5\n",
            "gfp/37+55 cc28.png\n",
            "1/1 [==============================] - 1s 648ms/step\n",
            "6\n",
            "gfp/37+55 cc29.png\n",
            "1/1 [==============================] - 1s 745ms/step\n",
            "7\n",
            "gfp/37+55 cc30.png\n",
            "1/1 [==============================] - 1s 790ms/step\n",
            "8\n",
            "gfp/37+55 cc31.png\n",
            "1/1 [==============================] - 1s 551ms/step\n",
            "9\n",
            "gfp/37+55 cc32.png\n",
            "1/1 [==============================] - 1s 551ms/step\n",
            "10\n",
            "gfp/37+55 cc33.png\n",
            "1/1 [==============================] - 1s 542ms/step\n",
            "11\n",
            "gfp/37+55 cc34.png\n",
            "1/1 [==============================] - 1s 625ms/step\n",
            "12\n",
            "gfp/37+55 cc35.png\n",
            "1/1 [==============================] - 1s 544ms/step\n",
            "13\n",
            "gfp/37+55 cc36.png\n",
            "1/1 [==============================] - 1s 541ms/step\n",
            "14\n",
            "gfp/37+55 cc37.png\n",
            "1/1 [==============================] - 1s 554ms/step\n",
            "15\n",
            "gfp/37+55 cc38.png\n",
            "1/1 [==============================] - 1s 538ms/step\n",
            "16\n",
            "gfp/37+55 cc39 (2).png\n",
            "1/1 [==============================] - 1s 540ms/step\n",
            "17\n",
            "gfp/37+55 cc39.png\n",
            "1/1 [==============================] - 1s 559ms/step\n",
            "18\n",
            "gfp/37+55 cc40 (2).png\n",
            "1/1 [==============================] - 1s 616ms/step\n",
            "19\n",
            "gfp/37+55 cc40.png\n",
            "1/1 [==============================] - 1s 544ms/step\n",
            "20\n",
            "gfp/37+55 cc41.png\n",
            "1/1 [==============================] - 1s 550ms/step\n",
            "21\n",
            "gfp/37+55 cc42.png\n",
            "1/1 [==============================] - 1s 541ms/step\n",
            "22\n",
            "gfp/37+55 cc43.png\n",
            "1/1 [==============================] - 1s 547ms/step\n",
            "23\n",
            "gfp/37+55 cc44.png\n",
            "1/1 [==============================] - 1s 550ms/step\n",
            "24\n",
            "gfp/37+55 cc45.png\n",
            "1/1 [==============================] - 1s 538ms/step\n",
            "25\n",
            "gfp/37+55 cc46.png\n",
            "1/1 [==============================] - 1s 550ms/step\n",
            "26\n",
            "gfp/37+55 cc47.png\n",
            "1/1 [==============================] - 1s 541ms/step\n",
            "27\n",
            "gfp/37+55 cc48.png\n",
            "1/1 [==============================] - 1s 573ms/step\n",
            "28\n",
            "gfp/37+55 cc49.png\n",
            "1/1 [==============================] - 1s 547ms/step\n",
            "29\n",
            "gfp/37+55 cc50.png\n",
            "1/1 [==============================] - 1s 555ms/step\n",
            "30\n",
            "gfp/37+55 cc51.png\n",
            "1/1 [==============================] - 1s 922ms/step\n",
            "31\n",
            "gfp/37+55 cc52.png\n",
            "1/1 [==============================] - 1s 930ms/step\n",
            "32\n",
            "gfp/37+55 cc53.png\n",
            "1/1 [==============================] - 1s 616ms/step\n",
            "33\n",
            "gfp/37+55 cc54.png\n",
            "1/1 [==============================] - 1s 537ms/step\n",
            "34\n",
            "gfp/37+55 cc55.png\n",
            "1/1 [==============================] - 1s 548ms/step\n",
            "35\n",
            "gfp/37+55 cc56.png\n",
            "1/1 [==============================] - 1s 545ms/step\n",
            "36\n",
            "gfp/37+55 cc57.png\n",
            "1/1 [==============================] - 1s 540ms/step\n",
            "37\n",
            "gfp/37+55 cc58.png\n",
            "1/1 [==============================] - 1s 551ms/step\n",
            "38\n",
            "gfp/37+55 cc59.png\n",
            "1/1 [==============================] - 1s 540ms/step\n",
            "39\n",
            "gfp/37+55 cc60.png\n",
            "1/1 [==============================] - 1s 547ms/step\n",
            "40\n",
            "gfp/37+55 cc61.png\n",
            "1/1 [==============================] - 1s 545ms/step\n",
            "41\n",
            "gfp/37+55 cc62.png\n",
            "1/1 [==============================] - 1s 540ms/step\n",
            "42\n",
            "gfp/37+55 cc63.png\n",
            "1/1 [==============================] - 1s 587ms/step\n",
            "43\n",
            "gfp/37+55 cc64.png\n",
            "1/1 [==============================] - 1s 538ms/step\n",
            "44\n",
            "gfp/37+55 cc65.png\n",
            "1/1 [==============================] - 1s 536ms/step\n",
            "45\n",
            "gfp/37+55 cc66.png\n",
            "1/1 [==============================] - 1s 548ms/step\n",
            "46\n",
            "gfp/37+55 cc67.png\n",
            "1/1 [==============================] - 1s 534ms/step\n",
            "47\n",
            "gfp/37+55 cc68.png\n",
            "1/1 [==============================] - 1s 545ms/step\n",
            "48\n",
            "gfp/37+55 cc69.png\n",
            "1/1 [==============================] - 1s 552ms/step\n",
            "49\n",
            "gfp/37+55 cc70.png\n",
            "1/1 [==============================] - 1s 539ms/step\n",
            "50\n",
            "gfp/37+55 cc71.png\n",
            "1/1 [==============================] - 1s 552ms/step\n",
            "51\n",
            "gfp/37+55 cc72.png\n",
            "1/1 [==============================] - 1s 558ms/step\n",
            "52\n",
            "gfp/37+55 cc73.png\n",
            "1/1 [==============================] - 1s 539ms/step\n",
            "53\n",
            "gfp/37+55 cc74.png\n",
            "1/1 [==============================] - 1s 553ms/step\n",
            "54\n",
            "gfp/37+55 cc75.png\n",
            "1/1 [==============================] - 1s 544ms/step\n",
            "55\n",
            "gfp/37+55 cc76.png\n",
            "1/1 [==============================] - 1s 538ms/step\n",
            "56\n",
            "gfp/37+55 cc77.png\n",
            "1/1 [==============================] - 1s 557ms/step\n",
            "57\n",
            "gfp/arabidopsis_control1.png\n",
            "1/1 [==============================] - 1s 537ms/step\n",
            "58\n",
            "gfp/arabidopsis_control2.png\n",
            "1/1 [==============================] - 1s 571ms/step\n",
            "59\n",
            "gfp/arabidopsis_control5.png\n",
            "1/1 [==============================] - 1s 558ms/step\n",
            "60\n",
            "gfp/arabidopsis_control6.png\n",
            "1/1 [==============================] - 1s 545ms/step\n",
            "61\n",
            "gfp/arabidopsis_control9.png\n",
            "1/1 [==============================] - 1s 546ms/step\n",
            "62\n",
            "gfp/arabidopsis_control11.png\n",
            "1/1 [==============================] - 1s 545ms/step\n",
            "63\n",
            "gfp/arabidopsis_control12.png\n",
            "1/1 [==============================] - 1s 536ms/step\n",
            "64\n",
            "gfp/arabidopsis_control15.png\n",
            "1/1 [==============================] - 1s 557ms/step\n",
            "65\n",
            "gfp/arabidopsis_control17.png\n",
            "1/1 [==============================] - 1s 546ms/step\n",
            "66\n",
            "gfp/arabidopsis_control18.png\n",
            "1/1 [==============================] - 1s 544ms/step\n",
            "67\n",
            "gfp/arabidopsis_control21.png\n",
            "1/1 [==============================] - 1s 554ms/step\n",
            "68\n",
            "gfp/arabidopsis_control22.png\n",
            "1/1 [==============================] - 1s 542ms/step\n",
            "69\n",
            "gfp/dr5seedlings-00.jpg\n",
            "1/1 [==============================] - 1s 548ms/step\n",
            "70\n",
            "gfp/dr5seedlings-01.jpg\n",
            "1/1 [==============================] - 1s 558ms/step\n",
            "71\n",
            "gfp/dr5seedlings-02.jpg\n",
            "1/1 [==============================] - 1s 547ms/step\n",
            "72\n",
            "gfp/dr5seedlings-03.jpg\n",
            "1/1 [==============================] - 1s 549ms/step\n",
            "73\n",
            "gfp/dr5seedlings-04.jpg\n",
            "1/1 [==============================] - 1s 560ms/step\n",
            "74\n",
            "gfp/dr5seedlings-05.jpg\n",
            "1/1 [==============================] - 1s 543ms/step\n",
            "75\n",
            "gfp/dr5seedlings-06.jpg\n",
            "1/1 [==============================] - 1s 574ms/step\n",
            "76\n",
            "gfp/dr5seedlings-07.jpg\n",
            "1/1 [==============================] - 1s 528ms/step\n",
            "77\n",
            "gfp/dr5seedlings-08.jpg\n",
            "1/1 [==============================] - 1s 538ms/step\n",
            "78\n",
            "gfp/dr5seedlings-09.jpg\n",
            "1/1 [==============================] - 1s 540ms/step\n",
            "79\n",
            "gfp/dr5seedlings-10.jpg\n",
            "1/1 [==============================] - 1s 539ms/step\n",
            "80\n",
            "gfp/dr5seedlings-11.jpg\n",
            "1/1 [==============================] - 1s 533ms/step\n",
            "81\n",
            "gfp/dr5seedlings-12.jpg\n",
            "1/1 [==============================] - 1s 549ms/step\n",
            "82\n",
            "gfp/dr5seedlings-13.jpg\n",
            "1/1 [==============================] - 1s 557ms/step\n",
            "83\n",
            "gfp/dr5seedlings-14.jpg\n",
            "1/1 [==============================] - 1s 536ms/step\n",
            "84\n",
            "gfp/dr5seedlings-15.jpg\n",
            "1/1 [==============================] - 1s 550ms/step\n",
            "85\n",
            "gfp/dr5seedlings-16.jpg\n",
            "1/1 [==============================] - 1s 529ms/step\n",
            "86\n",
            "gfp/dr5seedlings-17.jpg\n",
            "1/1 [==============================] - 1s 533ms/step\n",
            "87\n",
            "gfp/dr5seedlings-18.jpg\n",
            "1/1 [==============================] - 1s 545ms/step\n",
            "88\n",
            "gfp/dr5spray-seedlings-00 (2).jpg\n",
            "1/1 [==============================] - 1s 527ms/step\n",
            "89\n",
            "gfp/dr5spray-seedlings-00 (3).jpg\n",
            "1/1 [==============================] - 1s 540ms/step\n",
            "90\n",
            "gfp/dr5spray-seedlings-00.jpg\n",
            "1/1 [==============================] - 1s 537ms/step\n",
            "91\n",
            "gfp/dr5spray-seedlings-00a.jpg\n",
            "1/1 [==============================] - 1s 528ms/step\n",
            "92\n",
            "gfp/dr5spray-seedlings-00b.jpg\n",
            "1/1 [==============================] - 1s 549ms/step\n",
            "93\n",
            "gfp/dr5spray-seedlings-01 (2).jpg\n",
            "1/1 [==============================] - 1s 535ms/step\n",
            "94\n",
            "gfp/dr5spray-seedlings-01 (3).jpg\n",
            "1/1 [==============================] - 1s 548ms/step\n",
            "95\n",
            "gfp/dr5spray-seedlings-01.jpg\n",
            "1/1 [==============================] - 1s 549ms/step\n",
            "96\n",
            "gfp/dr5spray-seedlings-01a.jpg\n",
            "1/1 [==============================] - 1s 530ms/step\n",
            "97\n",
            "gfp/dr5spray-seedlings-02.jpg\n",
            "1/1 [==============================] - 1s 544ms/step\n",
            "98\n",
            "gfp/dr5spray-seedlings2-00 (2).jpg\n",
            "1/1 [==============================] - 1s 530ms/step\n",
            "99\n",
            "gfp/dr5spray-seedlings2-00 (3).jpg\n",
            "1/1 [==============================] - 1s 546ms/step\n",
            "100\n",
            "gfp/dr5spray-seedlings2-00 (4).jpg\n",
            "1/1 [==============================] - 1s 542ms/step\n",
            "101\n",
            "gfp/dr5spray-seedlings2-00 (5).jpg\n",
            "1/1 [==============================] - 1s 526ms/step\n",
            "102\n",
            "gfp/dr5spray-seedlings2-00 (6).jpg\n",
            "1/1 [==============================] - 1s 546ms/step\n",
            "103\n",
            "gfp/dr5spray-seedlings2-00 (7).jpg\n",
            "1/1 [==============================] - 1s 528ms/step\n",
            "104\n",
            "gfp/dr5spray-seedlings2-00 (8).jpg\n",
            "1/1 [==============================] - 1s 528ms/step\n",
            "105\n",
            "gfp/dr5spray-seedlings2-00 (9).jpg\n",
            "1/1 [==============================] - 1s 555ms/step\n",
            "106\n",
            "gfp/dr5spray-seedlings2-00 (10).jpg\n",
            "1/1 [==============================] - 1s 531ms/step\n",
            "107\n",
            "gfp/dr5spray-seedlings2-00 (11).jpg\n",
            "1/1 [==============================] - 1s 540ms/step\n",
            "108\n",
            "gfp/dr5spray-seedlings2-00 (12).jpg\n",
            "1/1 [==============================] - 1s 545ms/step\n",
            "109\n",
            "gfp/dr5spray-seedlings2-00 (13).jpg\n",
            "1/1 [==============================] - 1s 532ms/step\n",
            "110\n",
            "gfp/dr5spray-seedlings2-00 (14).jpg\n",
            "1/1 [==============================] - 1s 540ms/step\n",
            "111\n",
            "gfp/dr5spray-seedlings2-00.jpg\n",
            "1/1 [==============================] - 1s 565ms/step\n",
            "112\n",
            "gfp/dr5spray-seedlings2-00-2x (2).jpg\n",
            "1/1 [==============================] - 1s 533ms/step\n",
            "113\n",
            "gfp/dr5spray-seedlings2-00-2x (3).jpg\n",
            "1/1 [==============================] - 1s 543ms/step\n",
            "114\n",
            "gfp/dr5spray-seedlings2-00-2x (4).jpg\n",
            "1/1 [==============================] - 1s 537ms/step\n",
            "115\n",
            "gfp/dr5spray-seedlings2-00-2x (5).jpg\n",
            "1/1 [==============================] - 1s 546ms/step\n",
            "116\n",
            "gfp/dr5spray-seedlings2-00-2x (6).jpg\n",
            "1/1 [==============================] - 1s 542ms/step\n",
            "117\n",
            "gfp/dr5spray-seedlings2-00-2x (7).jpg\n",
            "1/1 [==============================] - 1s 531ms/step\n",
            "118\n",
            "gfp/dr5spray-seedlings2-00-2x.jpg\n",
            "1/1 [==============================] - 1s 557ms/step\n",
            "119\n",
            "gfp/dr5spray-seedlings2-01 (2).jpg\n",
            "1/1 [==============================] - 1s 530ms/step\n",
            "120\n",
            "gfp/dr5spray-seedlings2-01 (3).jpg\n",
            "1/1 [==============================] - 1s 541ms/step\n",
            "121\n",
            "gfp/dr5spray-seedlings2-01 (4).jpg\n",
            "1/1 [==============================] - 1s 613ms/step\n",
            "122\n",
            "gfp/dr5spray-seedlings2-01 (5).jpg\n",
            "1/1 [==============================] - 1s 533ms/step\n",
            "123\n",
            "gfp/dr5spray-seedlings2-01 (6).jpg\n",
            "1/1 [==============================] - 1s 554ms/step\n",
            "124\n",
            "gfp/dr5spray-seedlings2-01 (7).jpg\n",
            "1/1 [==============================] - 1s 541ms/step\n",
            "125\n",
            "gfp/dr5spray-seedlings2-01 (8).jpg\n",
            "1/1 [==============================] - 1s 532ms/step\n",
            "126\n",
            "gfp/dr5spray-seedlings2-01 (9).jpg\n",
            "1/1 [==============================] - 1s 548ms/step\n",
            "127\n",
            "gfp/dr5spray-seedlings2-01 (10).jpg\n",
            "1/1 [==============================] - 1s 538ms/step\n",
            "128\n",
            "gfp/dr5spray-seedlings2-01 (11).jpg\n",
            "1/1 [==============================] - 1s 543ms/step\n",
            "129\n",
            "gfp/dr5spray-seedlings2-01 (12).jpg\n",
            "1/1 [==============================] - 1s 561ms/step\n",
            "130\n",
            "gfp/dr5spray-seedlings2-01 (13).jpg\n",
            "1/1 [==============================] - 1s 541ms/step\n",
            "131\n",
            "gfp/dr5spray-seedlings2-01.jpg\n",
            "1/1 [==============================] - 1s 548ms/step\n",
            "132\n",
            "gfp/dr5spray-seedlings2-01-2x.jpg\n",
            "1/1 [==============================] - 1s 535ms/step\n",
            "133\n",
            "gfp/dr5spray-seedlings2-02.jpg\n",
            "1/1 [==============================] - 1s 549ms/step\n",
            "134\n",
            "gfp/dr5spray-seedlings-03.jpg\n",
            "1/1 [==============================] - 1s 543ms/step\n",
            "135\n",
            "gfp/dr5sprayseedlings3-00 (2).jpg\n",
            "1/1 [==============================] - 1s 530ms/step\n",
            "136\n",
            "gfp/dr5sprayseedlings3-00 (3).jpg\n",
            "1/1 [==============================] - 1s 550ms/step\n",
            "137\n",
            "gfp/dr5sprayseedlings3-00 (4).jpg\n",
            "1/1 [==============================] - 1s 539ms/step\n",
            "138\n",
            "gfp/dr5sprayseedlings3-00 (5).jpg\n",
            "1/1 [==============================] - 1s 540ms/step\n",
            "139\n",
            "gfp/dr5sprayseedlings3-00 (6).jpg\n",
            "1/1 [==============================] - 1s 569ms/step\n",
            "140\n",
            "gfp/dr5sprayseedlings3-00 (7).jpg\n",
            "1/1 [==============================] - 1s 539ms/step\n",
            "141\n",
            "gfp/dr5sprayseedlings3-00.jpg\n",
            "1/1 [==============================] - 1s 549ms/step\n",
            "142\n",
            "gfp/dr5sprayseedlings3-01 (2).jpg\n",
            "1/1 [==============================] - 1s 539ms/step\n",
            "143\n",
            "gfp/dr5sprayseedlings3-01 (3).jpg\n",
            "1/1 [==============================] - 1s 543ms/step\n",
            "144\n",
            "gfp/dr5sprayseedlings3-01 (4).jpg\n",
            "1/1 [==============================] - 1s 550ms/step\n",
            "145\n",
            "gfp/dr5sprayseedlings3-01 (5).jpg\n",
            "1/1 [==============================] - 1s 536ms/step\n",
            "146\n",
            "gfp/dr5sprayseedlings3-01 (6).jpg\n",
            "1/1 [==============================] - 1s 543ms/step\n",
            "147\n",
            "gfp/dr5sprayseedlings3-01 (7).jpg\n",
            "1/1 [==============================] - 1s 536ms/step\n",
            "148\n",
            "gfp/dr5sprayseedlings3-01.jpg\n",
            "1/1 [==============================] - 1s 578ms/step\n",
            "149\n",
            "gfp/dr5sprayseedlings3-02 (2).jpg\n",
            "1/1 [==============================] - 1s 542ms/step\n",
            "150\n",
            "gfp/dr5sprayseedlings3-02 (3).jpg\n",
            "1/1 [==============================] - 1s 538ms/step\n",
            "151\n",
            "gfp/dr5sprayseedlings3-02 (4).jpg\n",
            "1/1 [==============================] - 1s 549ms/step\n",
            "152\n",
            "gfp/dr5sprayseedlings3-02 (5).jpg\n",
            "1/1 [==============================] - 1s 527ms/step\n",
            "153\n",
            "gfp/dr5sprayseedlings3-02.jpg\n",
            "1/1 [==============================] - 1s 546ms/step\n",
            "154\n",
            "gfp/root1.png\n",
            "1/1 [==============================] - 1s 542ms/step\n",
            "155\n",
            "gfp/root2.png\n",
            "1/1 [==============================] - 1s 536ms/step\n",
            "156\n",
            "gfp/root3.png\n",
            "1/1 [==============================] - 1s 543ms/step\n",
            "157\n",
            "gfp/root4.png\n",
            "1/1 [==============================] - 1s 544ms/step\n",
            "158\n",
            "gfp/root5.png\n",
            "1/1 [==============================] - 1s 538ms/step\n",
            "159\n",
            "gfp/root6.png\n",
            "1/1 [==============================] - 1s 545ms/step\n",
            "160\n",
            "gfp/root7.png\n",
            "1/1 [==============================] - 1s 530ms/step\n",
            "161\n",
            "gfp/root8.png\n",
            "1/1 [==============================] - 1s 549ms/step\n",
            "162\n",
            "gfp/root9.png\n",
            "1/1 [==============================] - 1s 546ms/step\n",
            "163\n",
            "gfp/root10.png\n",
            "1/1 [==============================] - 1s 534ms/step\n",
            "164\n",
            "gfp/root11.png\n",
            "1/1 [==============================] - 1s 550ms/step\n",
            "165\n",
            "gfp/root12.png\n",
            "1/1 [==============================] - 1s 553ms/step\n",
            "166\n",
            "gfp/37+55 cc3.png\n",
            "1/1 [==============================] - 1s 541ms/step\n",
            "167\n",
            "gfp/37+55 cc4.png\n",
            "1/1 [==============================] - 1s 543ms/step\n",
            "168\n",
            "gfp/37+55 cc5.png\n",
            "1/1 [==============================] - 1s 535ms/step\n",
            "169\n",
            "gfp/37+55 cc6.png\n",
            "1/1 [==============================] - 1s 547ms/step\n",
            "170\n",
            "gfp/37+55 cc7.png\n",
            "1/1 [==============================] - 1s 547ms/step\n",
            "171\n",
            "gfp/37+55 cc8.png\n",
            "1/1 [==============================] - 1s 545ms/step\n",
            "172\n",
            "gfp/37+55 cc9.png\n",
            "1/1 [==============================] - 1s 545ms/step\n",
            "173\n",
            "gfp/37+55 cc10.png\n",
            "1/1 [==============================] - 1s 539ms/step\n",
            "174\n",
            "gfp/37+55 cc11.png\n",
            "1/1 [==============================] - 1s 533ms/step\n",
            "175\n",
            "gfp/37+55 cc12.png\n",
            "1/1 [==============================] - 1s 548ms/step\n",
            "176\n",
            "gfp/37+55 cc13.png\n",
            "1/1 [==============================] - 1s 534ms/step\n",
            "177\n",
            "gfp/37+55 cc14.png\n",
            "1/1 [==============================] - 1s 532ms/step\n",
            "178\n",
            "gfp/37+55 cc15.png\n",
            "1/1 [==============================] - 1s 538ms/step\n",
            "179\n",
            "gfp/37+55 cc16.png\n",
            "1/1 [==============================] - 1s 537ms/step\n",
            "180\n",
            "gfp/37+55 cc17.png\n",
            "1/1 [==============================] - 1s 547ms/step\n",
            "181\n",
            "gfp/37+55 cc18.png\n",
            "1/1 [==============================] - 1s 540ms/step\n",
            "182\n",
            "gfp/37+55 cc19.png\n",
            "1/1 [==============================] - 1s 533ms/step\n",
            "183\n",
            "gfp/37+55 cc20.png\n",
            "1/1 [==============================] - 1s 574ms/step\n",
            "184\n",
            "gfp/37+55 cc21.png\n",
            "1/1 [==============================] - 1s 528ms/step\n",
            "185\n",
            "gfp/37+55 cc22.png\n",
            "1/1 [==============================] - 1s 534ms/step\n",
            "186\n",
            "gfp/37+55 cc23.png\n",
            "1/1 [==============================] - 1s 542ms/step\n"
          ]
        }
      ]
    },
    {
      "metadata": {
        "id": "DiEbJ2JyKKXa"
      },
      "cell_type": "markdown",
      "source": [
        "APPLYING TSNE/PCA/PCA-TSNE\n",
        "> To reduce the dimentionality of the dataset, using Principle Component Analysis (PCA). As shown in following calculation, considering **n_components = 50** results into **95%** of variance\n",
        "\n"
      ]
    },
    {
      "cell_type": "code",
      "source": [
        "data_vgg16 = pandas.read_csv(file+\"vgg16.tsv\", sep='\\t')\n",
        "\n",
        "# split the comma delimited string back into a list of values\n",
        "transformed = [d.split(',') for d in data_vgg16['features']]\n",
        "# convert image data to float64 matrix. float64 is need for bh_sne\n",
        "x_data = np.asarray(transformed).astype('float64')\n",
        "x_data = x_data.reshape((x_data.shape[0], -1))\n",
        "\n",
        "pca = decomposition.PCA().fit(x_data)\n",
        "\n",
        "plt.rcParams[\"figure.figsize\"] = (12,6)\n",
        "\n",
        "fig, ax = plt.subplots()\n",
        "xi = np.arange(1, 187, step=1)\n",
        "y = np.cumsum(pca.explained_variance_ratio_)\n",
        "\n",
        "plt.ylim(0.0,1.1)\n",
        "plt.plot(xi, y, marker='o', linestyle='--', color='b')\n",
        "\n",
        "plt.xlabel('Number of Components')\n",
        "plt.xticks(np.arange(0, 187, step=20)) #change from 0-based array index to 1-based human-readable label\n",
        "plt.ylabel('Cumulative variance (%)')\n",
        "plt.title('The number of components needed to explain variance')\n",
        "\n",
        "plt.axhline(y=0.95, color='r', linestyle='-')\n",
        "plt.text(0.5, 0.85, '95% cut-off threshold', color = 'red', fontsize=16)\n",
        "\n",
        "ax.grid(axis='x')\n",
        "plt.show()"
      ],
      "metadata": {
        "colab": {
          "base_uri": "https://localhost:8080/",
          "height": 408
        },
        "id": "lTTlFQPR0GmZ",
        "outputId": "3bf4fdaa-9faa-417c-8a3f-3c94967c64d2"
      },
      "execution_count": 12,
      "outputs": [
        {
          "output_type": "display_data",
          "data": {
            "text/plain": [
              "<Figure size 864x432 with 1 Axes>"
            ],
            "image/png": "[encoded data removed]"
          },
          "metadata": {}
        }
      ]
    },
    {
      "metadata": {
        "id": "ibZAT4CKBLhT"
      },
      "cell_type": "code",
      "source": [
        "def process(data):\n",
        "    model = decomposition.PCA(n_components=50)\n",
        "    vis_data = model.fit_transform(x_data)\n",
        "    # convert the results into a list of dict\n",
        "    results = []\n",
        "    for i in range(0, len(data)):\n",
        "        results.append({\n",
        "            'id': data['id'][i],\n",
        "            'x': vis_data[i][0],\n",
        "            'y': vis_data[i][1]\n",
        "        })\n",
        "    return results,model\n"
      ],
      "execution_count": 13,
      "outputs": []
    },
    {
      "metadata": {
        "id": "XNj8PpOiBLhc"
      },
      "cell_type": "code",
      "source": [
        "def write_tsv(results, output_tsv):\n",
        "    # write to a tab delimited file\n",
        "    with open(output_tsv, 'w') as output:\n",
        "        w = csv.DictWriter(\n",
        "            output, fieldnames=['id', 'x', 'y'], delimiter='\\t',\n",
        "            lineterminator='\\n')\n",
        "        w.writeheader()\n",
        "        w.writerows(results)\n"
      ],
      "execution_count": 14,
      "outputs": []
    },
    {
      "metadata": {
        "id": "s__gx-PCBLhj"
      },
      "cell_type": "code",
      "source": [
        "file = \"features_\"\n",
        "\n",
        "# VGG-16\n",
        "data_vgg16 = pandas.read_csv(file+\"vgg16.tsv\", sep='\\t')\n",
        "results_vgg16,pca_model = process(data_vgg16)\n",
        "write_tsv(results_vgg16, file+\"vgg16_tsne.tsv\")\n"
      ],
      "execution_count": 15,
      "outputs": []
    },
    {
      "metadata": {
        "id": "ojEiyeNOBLhp"
      },
      "cell_type": "code",
      "source": [
        "x = []\n",
        "y = []\n",
        "# VGG-16\n",
        "x_vgg16 = []\n",
        "y_vgg16 = []\n",
        "for i in results_vgg16:\n",
        "    x_vgg16.append(i['x'])\n",
        "    y_vgg16.append(i['y'])\n",
        "x.append(x_vgg16)\n",
        "y.append(y_vgg16)\n",
        "   "
      ],
      "execution_count": 16,
      "outputs": []
    },
    {
      "metadata": {
        "id": "jHa5xUb6BLht",
        "colab": {
          "base_uri": "https://localhost:8080/",
          "height": 213
        },
        "outputId": "93a718ed-5eda-42ea-b33b-d578cd765c1b"
      },
      "cell_type": "code",
      "source": [
        "plt.subplot(2,3,1)\n",
        "plt.scatter(x[0], y[0], label= \"stars\", color= \"green\", marker= \"*\", s=30) \n"
      ],
      "execution_count": 17,
      "outputs": [
        {
          "output_type": "execute_result",
          "data": {
            "text/plain": [
              "<matplotlib.collections.PathCollection at 0x7f033ea2df10>"
            ]
          },
          "metadata": {},
          "execution_count": 17
        },
        {
          "output_type": "display_data",
          "data": {
            "text/plain": [
              "<Figure size 864x432 with 1 Axes>"
            ],
            "image/png": "[encoded data removed]"
          },
          "metadata": {}
        }
      ]
    },
    {
      "cell_type": "markdown",
      "source": [
        "## Model Training"
      ],
      "metadata": {
        "id": "-8nWxd4hf43S"
      }
    },
    {
      "cell_type": "code",
      "source": [
        "from sklearn.cluster import KMeans\n",
        "\n",
        "def kmean_elbow(df):\n",
        "  distortions = []\n",
        "  K = range(1,10)\n",
        "  for k in K:\n",
        "      kmeanModel = KMeans(n_clusters=k)\n",
        "      kmeanModel.fit(df)\n",
        "      distortions.append(kmeanModel.inertia_)\n",
        "\n",
        "  plt.figure(figsize=(16,8))\n",
        "  plt.plot(K, distortions, 'bx-')\n",
        "  plt.xlabel('k')\n",
        "  plt.ylabel('Distortion')\n",
        "  plt.title('The Elbow Method showing the optimal k')\n",
        "  plt.show()"
      ],
      "metadata": {
        "id": "IOMvbP5580Pm"
      },
      "execution_count": 18,
      "outputs": []
    },
    {
      "metadata": {
        "id": "0lq6Rb7RXScx"
      },
      "cell_type": "markdown",
      "source": [
        "APPLYING KMEANS\n",
        "\n",
        "\n",
        "> Using K means model for clustering plant images based on extracted features. The above method uses Elbow method to find the optimal value of **k**. Here K is set as 3, resulting into 3 clusters as 0, 1, 2 respectively. \n",
        "\n"
      ]
    },
    {
      "cell_type": "code",
      "source": [
        "from sklearn.cluster import KMeans\n",
        "\n",
        "# K-means\n",
        "f_vgg16 = [[d['x'],d['y'] ] for d in results_vgg16]\n",
        "\n",
        "kmean_elbow(f_vgg16)\n",
        "x = np.array(f_vgg16)[:,0]\n",
        "y = np.array(f_vgg16)[:,1]\n",
        "kmodel = KMeans(n_clusters=3,random_state=0).fit(f_vgg16)\n",
        "colors = ['red', 'blue', 'green']\n",
        "print(kmodel.labels_)\n",
        "plt.rcParams[\"figure.figsize\"] = (10,5)\n",
        "ax = sns.scatterplot(x,y, hue=kmodel.labels_, palette=colors, alpha=0.5, s=7)\n",
        "ax = sns.scatterplot(kmodel.cluster_centers_[:, 0], kmodel.cluster_centers_[:, 1],\n",
        "                     hue=range(3), palette=colors, s=20, ec='black', legend=False, ax=ax)\n",
        "plt.show()"
      ],
      "metadata": {
        "id": "zoNKNL_5oHMJ",
        "colab": {
          "base_uri": "https://localhost:8080/",
          "height": 751
        },
        "outputId": "ac19fac0-2344-4bcf-8167-bf05f1a7cecb"
      },
      "execution_count": 19,
      "outputs": [
        {
          "output_type": "display_data",
          "data": {
            "text/plain": [
              "<Figure size 1152x576 with 1 Axes>"
            ],
            "image/png": "[encoded data removed]"
          },
          "metadata": {}
        },
        {
          "output_type": "stream",
          "name": "stdout",
          "text": [
            "[0 0 0 0 0 0 0 0 0 0 2 0 2 2 2 2 2 0 0 0 0 0 0 1 2 1 0 1 0 1 0 2 0 1 0 1 2\n",
            " 1 2 0 0 1 2 0 2 0 2 2 0 0 2 2 2 2 2 2 2 0 0 0 0 0 0 0 1 1 0 0 1 1 1 1 1 1\n",
            " 1 1 1 1 1 0 0 1 1 0 1 0 0 0 2 1 0 2 2 2 1 0 0 0 1 1 1 1 1 1 1 1 1 1 1 1 0\n",
            " 0 0 0 0 1 1 0 0 1 1 1 1 1 1 1 1 1 1 1 0 1 1 0 2 1 1 1 1 1 0 2 1 1 1 1 1 0\n",
            " 2 1 1 1 0 2 1 0 0 0 1 0 0 0 0 1 1 0 0 0 2 0 1 1 0 1 1 1 1 0 0 2 0 2 0 0 0\n",
            " 0]\n"
          ]
        },
        {
          "output_type": "display_data",
          "data": {
            "text/plain": [
              "<Figure size 720x360 with 1 Axes>"
            ],
            "image/png": "[encoded data removed]"
          },
          "metadata": {}
        }
      ]
    },
    {
      "cell_type": "markdown",
      "source": [
        "One of the requirement for this project is to check if the incoming image falls under the defined thresold when assigned to any of the three cluster. This is because K means always cluterized data points based on the nearest distance from centroid. Therefore, if incoming image is beyond thresold, we will be re-training the model to accomodate the respective image. \n",
        "\n",
        "\n",
        "> The thresold is defined as the mean of the distance of data points from its centroid\n",
        "\n"
      ],
      "metadata": {
        "id": "zpD8yFmwjyEu"
      }
    },
    {
      "cell_type": "code",
      "source": [
        "# squared distance to cluster center\n",
        "X_dist = kmodel.transform(f_vgg16)**2\n",
        "\n",
        "df = pandas.DataFrame(X_dist.sum(axis=1).round(2), columns=['sqdist'])\n",
        "df['label'] = kmodel.labels_\n",
        "sum_0 = 0\n",
        "sum_1 = 0\n",
        "sum_2 = 0\n",
        "for i,row in df.iterrows():\n",
        "    if row['label'] == 0:\n",
        "        sum_0+=row['sqdist']\n",
        "    elif row['label'] == 1:\n",
        "        sum_1+=row['sqdist']\n",
        "    elif row['label'] == 2:\n",
        "        sum_2+=row['sqdist']\n",
        "\n",
        "sum_0 = sum_0/(df[df['label'] == 0])['label'].count()\n",
        "sum_1 = sum_1/(df[df['label'] == 1])['label'].count()\n",
        "sum_2 = sum_2/(df[df['label'] == 2])['label'].count()\n",
        "average_dist = [sum_0,sum_1,sum_2]\n",
        "print(\"Cluster 0 thresold -\",sum_0)\n",
        "print(\"Cluster 1 thresold -\",sum_1)\n",
        "print(\"Cluster 2 thresold -\",sum_2)"
      ],
      "metadata": {
        "id": "t5tU81lL4dpa",
        "colab": {
          "base_uri": "https://localhost:8080/"
        },
        "outputId": "3c7f179e-a248-41ef-9118-20d19f13d195"
      },
      "execution_count": 28,
      "outputs": [
        {
          "output_type": "stream",
          "name": "stdout",
          "text": [
            "Cluster 0 thresold - 1314.684358974359\n",
            "Cluster 1 thresold - 2401.960921052631\n",
            "Cluster 2 thresold - 2586.038125\n"
          ]
        }
      ]
    },
    {
      "cell_type": "markdown",
      "source": [
        "## Serializing model - Creating .pickle file"
      ],
      "metadata": {
        "id": "U5RMFK_j6LOD"
      }
    },
    {
      "cell_type": "code",
      "source": [
        "import pickle\n",
        "pickle.dump(kmodel, open(\"kmodel.pkl\", \"wb\"))\n",
        "pickle.dump(pca_model, open(\"pca.pkl\", \"wb\"))\n",
        "pickle.dump(average_dist,open(\"avg_dist.pkl\",\"wb\"))"
      ],
      "metadata": {
        "id": "eUb6df8Eh6Yp"
      },
      "execution_count": 27,
      "outputs": []
    },
    {
      "cell_type": "markdown",
      "source": [
        "## Model Inference"
      ],
      "metadata": {
        "id": "mt9ezjyu6rze"
      }
    },
    {
      "cell_type": "code",
      "source": [
        "# load the model\n",
        "model_k = pickle.load(open(\"kmodel.pkl\", \"rb\"))\n",
        "pca_model = pickle.load(open(\"pca.pkl\", \"rb\"))\n",
        "avg_dict = pickle.load(open(\"avg_dist.pkl\", \"rb\"))"
      ],
      "metadata": {
        "id": "TuxRXpUOiw2M"
      },
      "execution_count": 22,
      "outputs": []
    },
    {
      "cell_type": "code",
      "source": [
        "def process_test_image(img_path):\n",
        "      try:\n",
        "            # load image setting the image size to 224 x 224\n",
        "            img = image.load_img(img_path, target_size=(224, 224))\n",
        "            # convert image to numpy array\n",
        "            x = image.img_to_array(img)\n",
        "           \n",
        "            # the image is now in an array of shape (3, 224, 224)\n",
        "            # but we need to expand it to (1, 2, 224, 224) as Keras is expecting a list of images\n",
        "            x = np.expand_dims(x, axis=0)\n",
        "            x = preprocess_input(x)\n",
        "\n",
        "            \n",
        "            model_vgg16 = applications.vgg16.VGG16(weights='imagenet', include_top=False, pooling='avg')\n",
        "           \n",
        "            # extract the features\n",
        "            features = model_vgg16.predict(x)[0]\n",
        "            # convert from Numpy to a list of values\n",
        "            features_arr = np.char.mod('%f', features)\n",
        "            feature_list =  ','.join(features_arr)\n",
        "            transformed = feature_list.split(',')\n",
        "         \n",
        "            # convert image data to float64 matrix. float64 is need for bh_sne\n",
        "            x_data = np.asarray(transformed).astype('float64')\n",
        "            x_data = x_data.reshape((1,-1))\n",
        "            # perform t-SNE\n",
        "           \n",
        "            vis_data = pca_model.transform(x_data)\n",
        "\n",
        "\n",
        "            # convert the results into a list of dict\n",
        "            results = []\n",
        "            return vis_data[0][0], vis_data[0][1]\n",
        "      except Exception as ex:\n",
        "            # skip all exceptions for now\n",
        "            print(ex)\n",
        "            pass\n"
      ],
      "metadata": {
        "id": "g57yGcQPjbbr"
      },
      "execution_count": 23,
      "outputs": []
    },
    {
      "cell_type": "code",
      "source": [
        "x1,y1 = process_test_image('gfp/37+55 cc50.png')\n",
        "print([x1,y1])\n",
        "cluster_id_prediction = model_k.predict(np.array([x1,y1]).reshape((1,-1)))[0]\n",
        "cluster_distance = min(preprocessing.normalize(model_k.transform(np.array([x1,y1]).reshape((1,-1))))[0])\n",
        "\n",
        "print(cluster_id_prediction,cluster_distance)\n",
        "\n",
        "X_dist = kmodel.transform(np.array([x1,y1]).reshape((1,-1)))**2\n",
        "\n",
        "dist = X_dist.sum(axis=1).round(2)[0]\n",
        "print(dist)"
      ],
      "metadata": {
        "id": "BqXYc6M_i2ZY",
        "colab": {
          "base_uri": "https://localhost:8080/"
        },
        "outputId": "06238032-060c-4e3c-df85-acae8d7b1f4c"
      },
      "execution_count": 24,
      "outputs": [
        {
          "output_type": "stream",
          "name": "stdout",
          "text": [
            "1/1 [==============================] - 1s 663ms/step\n",
            "[-0.9466979234024293, -0.5648821057902678]\n",
            "0 0.19544928552452345\n",
            "1018.6\n"
          ]
        }
      ]
    },
    {
      "cell_type": "code",
      "source": [
        "plt.rcParams[\"figure.figsize\"] = (10,5)\n",
        "ax = sns.scatterplot(x1,y1, hue=kmodel.labels_, palette=colors, alpha=0.5, s=7)\n",
        "ax = sns.scatterplot(model_k.cluster_centers_[:, 0], model_k.cluster_centers_[:, 1],\n",
        "                     hue=range(3), palette=colors, s=20, ec='black', legend=False, ax=ax)\n",
        "plt.show()"
      ],
      "metadata": {
        "id": "wFj8eK2JXnPf",
        "colab": {
          "base_uri": "https://localhost:8080/",
          "height": 320
        },
        "outputId": "05418d0c-4d92-49ba-c553-cbe91e721e14"
      },
      "execution_count": 25,
      "outputs": [
        {
          "output_type": "display_data",
          "data": {
            "text/plain": [
              "<Figure size 720x360 with 1 Axes>"
            ],
            "image/png": "[encoded data removed]"
          },
          "metadata": {}
        }
      ]
    }
  ]
}